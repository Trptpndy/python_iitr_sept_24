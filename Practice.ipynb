{
 "cells": [
  {
   "cell_type": "code",
   "execution_count": 50,
   "metadata": {},
   "outputs": [],
   "source": [
    "'''\n",
    "Program to convert Decimal number into 6 base number system\n",
    "'''\n",
    "\n",
    "def Cnvrt_decimaltootherbase(num):\n",
    "    if type(num)!=int:\n",
    "        print('Please input a valid number')\n",
    "        return 0\n",
    "    if type(num)==int:\n",
    "        dummy_lst=list()\n",
    "        while num>0:\n",
    "            \n",
    "            dummy_lst.append(num%6)\n",
    "            num=num//6\n",
    "        dummy_lst.reverse()\n",
    "        res = int(\"\".join(map(str, dummy_lst)))\n",
    "    return res\n",
    "        \n",
    "'''\n",
    "Program to convert 6 base number into decimal number system\n",
    "'''            \n",
    "def Cnvrt_otherbasetointeger(num):\n",
    "    res=0\n",
    "    if type(num)!=int:\n",
    "        print('Please input a valid number')\n",
    "        return 0\n",
    "    if type(num)==int:\n",
    "        dummy_lst=list()\n",
    "        while num>0:\n",
    "            dummy_lst.append(num%10)\n",
    "            num=num//10\n",
    "    res=0\n",
    "    l=len(dummy_lst)\n",
    "    res=res+dummy_lst[l-1]*6\n",
    "\n",
    "    while(l>2):\n",
    "        res=(res+dummy_lst[l-2])*6\n",
    "        l-=1\n",
    "    \n",
    "    res=res+dummy_lst[0]\n",
    "    return res"
   ]
  },
  {
   "cell_type": "code",
   "execution_count": 46,
   "metadata": {},
   "outputs": [
    {
     "name": "stdout",
     "output_type": "stream",
     "text": [
      "4444444\n"
     ]
    }
   ],
   "source": [
    "i=Cnvrt_decimaltootherbase(223948)\n",
    "print(i)"
   ]
  },
  {
   "cell_type": "code",
   "execution_count": 49,
   "metadata": {},
   "outputs": [
    {
     "name": "stdout",
     "output_type": "stream",
     "text": [
      "[5, 4, 5, 1]\n",
      "425\n"
     ]
    }
   ],
   "source": [
    "x=1545\n",
    "\n",
    "dummy_lst=list()\n",
    "\n",
    "\n",
    "y=x\n",
    "i=1\n",
    "num=x%10    \n",
    "#x=x%10  \n",
    "\n",
    "while(y//10>0):\n",
    "    i=i+1\n",
    "    y=y//10\n",
    "\n",
    "#print(i)\n",
    "\n",
    "for k in range(1,i+1):\n",
    "    dummy_lst.append(x%10)\n",
    "    #print(x%10)\n",
    "    #num = (num + x)*6\n",
    "    x=x//10\n",
    "    #print(x)\n",
    "#dummy_lst.reverse()\n",
    "res=0\n",
    "\n",
    "print(dummy_lst)\n",
    "l=len(dummy_lst)\n",
    "res=res+dummy_lst[l-1]*6\n",
    "\n",
    "while(l>2):\n",
    "    #res=(res+dummy_lst[l-1])*6+dummy_lst[l-2]\n",
    "    res=(res+dummy_lst[l-2])*6\n",
    "    \n",
    "    l-=1\n",
    "    \n",
    "res=res+dummy_lst[0]\n",
    "print(res)\n",
    "    "
   ]
  },
  {
   "cell_type": "code",
   "execution_count": 52,
   "metadata": {},
   "outputs": [
    {
     "data": {
      "text/plain": [
       "223948"
      ]
     },
     "execution_count": 52,
     "metadata": {},
     "output_type": "execute_result"
    }
   ],
   "source": [
    "Cnvrt_otherbasetointeger(4444444)"
   ]
  },
  {
   "cell_type": "code",
   "execution_count": 3,
   "metadata": {},
   "outputs": [
    {
     "name": "stdout",
     "output_type": "stream",
     "text": [
      "[4, 5]\n"
     ]
    }
   ],
   "source": [
    "l1=[1,2,3,4,5]\n",
    "print(l1[3:])"
   ]
  },
  {
   "cell_type": "code",
   "execution_count": 65,
   "metadata": {},
   "outputs": [],
   "source": [
    "#str='abcd'\n",
    "#print(l1)\n",
    "def fun_Per(l1):\n",
    "    if len(l1)==1:\n",
    "        return l1\n",
    "    if len(l1)==0:\n",
    "        return []\n",
    "\n",
    "    for i in range(len(l1)):\n",
    "        strt=l1[i]\n",
    "        \n",
    "        raw_str= l1[:i] + l1[i+1:]\n",
    "        #print(raw_str)\n",
    "    \n",
    "        #print(raw_str)\n",
    "        for j in fun_Per(raw_str):\n",
    "            dummy_lst.append([strt]+j)\n",
    "            print(dummy_lst)\n",
    "    return dummy_lst    \n",
    "        \n",
    "        "
   ]
  },
  {
   "cell_type": "code",
   "execution_count": 66,
   "metadata": {},
   "outputs": [
    {
     "ename": "TypeError",
     "evalue": "can only concatenate list (not \"str\") to list",
     "output_type": "error",
     "traceback": [
      "\u001b[0;31m---------------------------------------------------------------------------\u001b[0m",
      "\u001b[0;31mTypeError\u001b[0m                                 Traceback (most recent call last)",
      "\u001b[0;32m<ipython-input-66-defc5e3e8c13>\u001b[0m in \u001b[0;36m<module>\u001b[0;34m\u001b[0m\n\u001b[0;32m----> 1\u001b[0;31m \u001b[0mfun_Per\u001b[0m\u001b[0;34m(\u001b[0m\u001b[0;34m'abcd'\u001b[0m\u001b[0;34m)\u001b[0m\u001b[0;34m\u001b[0m\u001b[0;34m\u001b[0m\u001b[0m\n\u001b[0m",
      "\u001b[0;32m<ipython-input-65-cbb06aca7473>\u001b[0m in \u001b[0;36mfun_Per\u001b[0;34m(l1)\u001b[0m\n\u001b[1;32m     14\u001b[0m \u001b[0;34m\u001b[0m\u001b[0m\n\u001b[1;32m     15\u001b[0m         \u001b[0;31m#print(raw_str)\u001b[0m\u001b[0;34m\u001b[0m\u001b[0;34m\u001b[0m\u001b[0;34m\u001b[0m\u001b[0m\n\u001b[0;32m---> 16\u001b[0;31m         \u001b[0;32mfor\u001b[0m \u001b[0mj\u001b[0m \u001b[0;32min\u001b[0m \u001b[0mfun_Per\u001b[0m\u001b[0;34m(\u001b[0m\u001b[0mraw_str\u001b[0m\u001b[0;34m)\u001b[0m\u001b[0;34m:\u001b[0m\u001b[0;34m\u001b[0m\u001b[0;34m\u001b[0m\u001b[0m\n\u001b[0m\u001b[1;32m     17\u001b[0m             \u001b[0mdummy_lst\u001b[0m\u001b[0;34m.\u001b[0m\u001b[0mappend\u001b[0m\u001b[0;34m(\u001b[0m\u001b[0;34m[\u001b[0m\u001b[0mstrt\u001b[0m\u001b[0;34m]\u001b[0m\u001b[0;34m+\u001b[0m\u001b[0mj\u001b[0m\u001b[0;34m)\u001b[0m\u001b[0;34m\u001b[0m\u001b[0;34m\u001b[0m\u001b[0m\n\u001b[1;32m     18\u001b[0m             \u001b[0mprint\u001b[0m\u001b[0;34m(\u001b[0m\u001b[0mdummy_lst\u001b[0m\u001b[0;34m)\u001b[0m\u001b[0;34m\u001b[0m\u001b[0;34m\u001b[0m\u001b[0m\n",
      "\u001b[0;32m<ipython-input-65-cbb06aca7473>\u001b[0m in \u001b[0;36mfun_Per\u001b[0;34m(l1)\u001b[0m\n\u001b[1;32m     14\u001b[0m \u001b[0;34m\u001b[0m\u001b[0m\n\u001b[1;32m     15\u001b[0m         \u001b[0;31m#print(raw_str)\u001b[0m\u001b[0;34m\u001b[0m\u001b[0;34m\u001b[0m\u001b[0;34m\u001b[0m\u001b[0m\n\u001b[0;32m---> 16\u001b[0;31m         \u001b[0;32mfor\u001b[0m \u001b[0mj\u001b[0m \u001b[0;32min\u001b[0m \u001b[0mfun_Per\u001b[0m\u001b[0;34m(\u001b[0m\u001b[0mraw_str\u001b[0m\u001b[0;34m)\u001b[0m\u001b[0;34m:\u001b[0m\u001b[0;34m\u001b[0m\u001b[0;34m\u001b[0m\u001b[0m\n\u001b[0m\u001b[1;32m     17\u001b[0m             \u001b[0mdummy_lst\u001b[0m\u001b[0;34m.\u001b[0m\u001b[0mappend\u001b[0m\u001b[0;34m(\u001b[0m\u001b[0;34m[\u001b[0m\u001b[0mstrt\u001b[0m\u001b[0;34m]\u001b[0m\u001b[0;34m+\u001b[0m\u001b[0mj\u001b[0m\u001b[0;34m)\u001b[0m\u001b[0;34m\u001b[0m\u001b[0;34m\u001b[0m\u001b[0m\n\u001b[1;32m     18\u001b[0m             \u001b[0mprint\u001b[0m\u001b[0;34m(\u001b[0m\u001b[0mdummy_lst\u001b[0m\u001b[0;34m)\u001b[0m\u001b[0;34m\u001b[0m\u001b[0;34m\u001b[0m\u001b[0m\n",
      "\u001b[0;32m<ipython-input-65-cbb06aca7473>\u001b[0m in \u001b[0;36mfun_Per\u001b[0;34m(l1)\u001b[0m\n\u001b[1;32m     15\u001b[0m         \u001b[0;31m#print(raw_str)\u001b[0m\u001b[0;34m\u001b[0m\u001b[0;34m\u001b[0m\u001b[0;34m\u001b[0m\u001b[0m\n\u001b[1;32m     16\u001b[0m         \u001b[0;32mfor\u001b[0m \u001b[0mj\u001b[0m \u001b[0;32min\u001b[0m \u001b[0mfun_Per\u001b[0m\u001b[0;34m(\u001b[0m\u001b[0mraw_str\u001b[0m\u001b[0;34m)\u001b[0m\u001b[0;34m:\u001b[0m\u001b[0;34m\u001b[0m\u001b[0;34m\u001b[0m\u001b[0m\n\u001b[0;32m---> 17\u001b[0;31m             \u001b[0mdummy_lst\u001b[0m\u001b[0;34m.\u001b[0m\u001b[0mappend\u001b[0m\u001b[0;34m(\u001b[0m\u001b[0;34m[\u001b[0m\u001b[0mstrt\u001b[0m\u001b[0;34m]\u001b[0m\u001b[0;34m+\u001b[0m\u001b[0mj\u001b[0m\u001b[0;34m)\u001b[0m\u001b[0;34m\u001b[0m\u001b[0;34m\u001b[0m\u001b[0m\n\u001b[0m\u001b[1;32m     18\u001b[0m             \u001b[0mprint\u001b[0m\u001b[0;34m(\u001b[0m\u001b[0mdummy_lst\u001b[0m\u001b[0;34m)\u001b[0m\u001b[0;34m\u001b[0m\u001b[0;34m\u001b[0m\u001b[0m\n\u001b[1;32m     19\u001b[0m     \u001b[0;32mreturn\u001b[0m \u001b[0mdummy_lst\u001b[0m\u001b[0;34m\u001b[0m\u001b[0;34m\u001b[0m\u001b[0m\n",
      "\u001b[0;31mTypeError\u001b[0m: can only concatenate list (not \"str\") to list"
     ]
    }
   ],
   "source": [
    "fun_Per('abcd')"
   ]
  },
  {
   "cell_type": "code",
   "execution_count": 34,
   "metadata": {},
   "outputs": [
    {
     "name": "stdout",
     "output_type": "stream",
     "text": [
      "abcd\n"
     ]
    }
   ],
   "source": [
    "l1=list()\n",
    "l1='abcd'\n",
    "print(l1)"
   ]
  },
  {
   "cell_type": "code",
   "execution_count": 57,
   "metadata": {},
   "outputs": [
    {
     "data": {
      "text/plain": [
       "16.583123951777"
      ]
     },
     "execution_count": 57,
     "metadata": {},
     "output_type": "execute_result"
    }
   ],
   "source": [
    "#Distance between two points in 3 dimesion\n",
    "import math\n",
    "(x1,y1,z1)=(10,20,30)\n",
    "(x2,y2,z2)=(15,15,15)\n",
    "math.sqrt((x2-x1)**2+(y2-y1)**2+(z2-z1)**2)\n",
    "    \n"
   ]
  },
  {
   "cell_type": "code",
   "execution_count": 1,
   "metadata": {},
   "outputs": [
    {
     "data": {
      "text/plain": [
       "5"
      ]
     },
     "execution_count": 1,
     "metadata": {},
     "output_type": "execute_result"
    }
   ],
   "source": [
    "0b10+0b11"
   ]
  },
  {
   "cell_type": "code",
   "execution_count": 2,
   "metadata": {},
   "outputs": [
    {
     "data": {
      "text/plain": [
       "'0b1100100'"
      ]
     },
     "execution_count": 2,
     "metadata": {},
     "output_type": "execute_result"
    }
   ],
   "source": [
    "bin(100)"
   ]
  },
  {
   "cell_type": "code",
   "execution_count": 1,
   "metadata": {},
   "outputs": [
    {
     "data": {
      "text/plain": [
       "-5"
      ]
     },
     "execution_count": 1,
     "metadata": {},
     "output_type": "execute_result"
    }
   ],
   "source": [
    "~4"
   ]
  },
  {
   "cell_type": "code",
   "execution_count": 2,
   "metadata": {},
   "outputs": [
    {
     "data": {
      "text/plain": [
       "-38"
      ]
     },
     "execution_count": 2,
     "metadata": {},
     "output_type": "execute_result"
    }
   ],
   "source": [
    "~0b100101"
   ]
  },
  {
   "cell_type": "code",
   "execution_count": 22,
   "metadata": {},
   "outputs": [
    {
     "name": "stdout",
     "output_type": "stream",
     "text": [
      "0b1100\n",
      "0b10001\n"
     ]
    },
    {
     "data": {
      "text/plain": [
       "29"
      ]
     },
     "execution_count": 22,
     "metadata": {},
     "output_type": "execute_result"
    }
   ],
   "source": [
    "\n",
    "x=12\n",
    "y=17\n",
    "print(bin(x))\n",
    "print(bin(y))\n",
    "x^y"
   ]
  },
  {
   "cell_type": "code",
   "execution_count": null,
   "metadata": {},
   "outputs": [],
   "source": []
  },
  {
   "cell_type": "code",
   "execution_count": 27,
   "metadata": {},
   "outputs": [
    {
     "name": "stdout",
     "output_type": "stream",
     "text": [
      "800 70\n"
     ]
    }
   ],
   "source": [
    "#Use XOR to swap without using third variable\n",
    "x=70\n",
    "y=800\n",
    "x=x^y\n",
    "y=x & (x^y)\n",
    "x=x^y\n",
    "print(x,y)"
   ]
  },
  {
   "cell_type": "code",
   "execution_count": 19,
   "metadata": {},
   "outputs": [],
   "source": [
    "#Tower of Hanoi\n",
    "\n",
    "\n",
    "def Tower_of_Hanoi_1(n,Source,target,Aux):\n",
    "    print(f\"Move {n} from {Source} to {target}\")\n",
    "\n",
    "    \n",
    "def Tower_of_Hanoi_2(n,Source,target,Aux):\n",
    "    #print(f\"Move 1 from {Source} to {Aux}\")\n",
    "    #print(f\"Move 2 from {Source} to {target}\")\n",
    "    #print(f\"Move 3 from {Aux} to {target}\")\n",
    "    Tower_of_Hanoi_1(n,Source,Aux,target)\n",
    "    Tower_of_Hanoi_1(n-1,Source,target,Aux)\n",
    "    Tower_of_Hanoi_1(n,Aux,target,Source)\n",
    "    \n",
    "def Tower_of_Hanoi(n,Source,target,Aux):\n",
    "    if n==1:\n",
    "        Tower_of_Hanoi_1(n,Source,target,Aux)\n",
    "    else:\n",
    "        Tower_of_Hanoi(n-1,Source,Aux,target)\n",
    "        Tower_of_Hanoi_1(n,Source,target,Aux)\n",
    "        Tower_of_Hanoi(n-1,Aux,target,Source)\n",
    "        \n",
    "    "
   ]
  },
  {
   "cell_type": "code",
   "execution_count": 14,
   "metadata": {},
   "outputs": [
    {
     "name": "stdout",
     "output_type": "stream",
     "text": [
      "Move 0 from A to C\n"
     ]
    }
   ],
   "source": [
    "Tower_of_Hanoi_1(0,'A','C','B')"
   ]
  },
  {
   "cell_type": "code",
   "execution_count": 20,
   "metadata": {},
   "outputs": [
    {
     "name": "stdout",
     "output_type": "stream",
     "text": [
      "Move 1 from A to C\n",
      "Move 2 from A to B\n",
      "Move 1 from C to B\n",
      "Move 3 from A to C\n",
      "Move 1 from B to A\n",
      "Move 2 from B to C\n",
      "Move 1 from A to C\n"
     ]
    }
   ],
   "source": [
    "Tower_of_Hanoi(3,'A','C','B')"
   ]
  },
  {
   "cell_type": "code",
   "execution_count": 36,
   "metadata": {},
   "outputs": [],
   "source": [
    "#Multiply without *\n",
    "def multy_recursion(a,b):\n",
    "    if a==0 or b==0:\n",
    "        return 0\n",
    "    else:\n",
    "        return multy_recursion(a,b-1)+a\n",
    "    \n",
    "    \n"
   ]
  },
  {
   "cell_type": "code",
   "execution_count": 37,
   "metadata": {},
   "outputs": [
    {
     "data": {
      "text/plain": [
       "12"
      ]
     },
     "execution_count": 37,
     "metadata": {},
     "output_type": "execute_result"
    }
   ],
   "source": [
    "multy_recursion(3,4)"
   ]
  },
  {
   "cell_type": "code",
   "execution_count": 1,
   "metadata": {},
   "outputs": [],
   "source": [
    "#HCF with recursion\n",
    "def HCF_Recursion(a,b):\n",
    "    if a > b:\n",
    "        a, b = b, a\n",
    "    if a == 0:\n",
    "        return 0\n",
    "    remainder = b % a\n",
    "    if remainder == 0:\n",
    "        return a\n",
    "    return HCF_Recursion(remainder, a)\n",
    "        "
   ]
  },
  {
   "cell_type": "code",
   "execution_count": 2,
   "metadata": {},
   "outputs": [
    {
     "data": {
      "text/plain": [
       "15"
      ]
     },
     "execution_count": 2,
     "metadata": {},
     "output_type": "execute_result"
    }
   ],
   "source": [
    "HCF_Recursion(15,30)"
   ]
  },
  {
   "cell_type": "code",
   "execution_count": 3,
   "metadata": {},
   "outputs": [],
   "source": [
    "def is_online(x1,x2,x):\n",
    "    if(x>=x1 and x<=x2):\n",
    "        return True\n",
    "    if(x>=x2 and x<=x1):\n",
    "        return False\n",
    "    return False\n",
    "    "
   ]
  },
  {
   "cell_type": "code",
   "execution_count": 4,
   "metadata": {},
   "outputs": [
    {
     "data": {
      "text/plain": [
       "True"
      ]
     },
     "execution_count": 4,
     "metadata": {},
     "output_type": "execute_result"
    }
   ],
   "source": [
    "is_online(1,4,3)"
   ]
  },
  {
   "cell_type": "code",
   "execution_count": 5,
   "metadata": {},
   "outputs": [
    {
     "data": {
      "text/plain": [
       "False"
      ]
     },
     "execution_count": 5,
     "metadata": {},
     "output_type": "execute_result"
    }
   ],
   "source": [
    "is_online(-3,-2,-1)"
   ]
  },
  {
   "cell_type": "code",
   "execution_count": 18,
   "metadata": {},
   "outputs": [],
   "source": [
    "def is_inside_rectangle(x1,y1,x2,y2,x,y):\n",
    "    if((x>=x1 and x<=x2) and (y>=y1 and y<=y2) or (x<=x1 and x>=x2) and (y<=y1 and y>=y2)):\n",
    "        return True\n",
    "    else:\n",
    "        return False"
   ]
  },
  {
   "cell_type": "code",
   "execution_count": 15,
   "metadata": {},
   "outputs": [
    {
     "data": {
      "text/plain": [
       "True"
      ]
     },
     "execution_count": 15,
     "metadata": {},
     "output_type": "execute_result"
    }
   ],
   "source": [
    "is_inside_rectangle(1,2,3,4,2,3)"
   ]
  },
  {
   "cell_type": "code",
   "execution_count": 19,
   "metadata": {},
   "outputs": [
    {
     "data": {
      "text/plain": [
       "True"
      ]
     },
     "execution_count": 19,
     "metadata": {},
     "output_type": "execute_result"
    }
   ],
   "source": [
    "is_inside_rectangle(3,4,1,2,2,3)"
   ]
  },
  {
   "cell_type": "code",
   "execution_count": 20,
   "metadata": {},
   "outputs": [
    {
     "data": {
      "text/plain": [
       "True"
      ]
     },
     "execution_count": 20,
     "metadata": {},
     "output_type": "execute_result"
    }
   ],
   "source": [
    "is_inside_rectangle(-1,-2,3,4,2,3)"
   ]
  },
  {
   "cell_type": "code",
   "execution_count": 21,
   "metadata": {},
   "outputs": [
    {
     "data": {
      "text/plain": [
       "False"
      ]
     },
     "execution_count": 21,
     "metadata": {},
     "output_type": "execute_result"
    }
   ],
   "source": [
    "is_inside_rectangle(-1,2,-3,-4,-5,-6)"
   ]
  },
  {
   "cell_type": "code",
   "execution_count": 22,
   "metadata": {},
   "outputs": [
    {
     "name": "stdout",
     "output_type": "stream",
     "text": [
      "True\n",
      "True\n",
      "True\n",
      "True\n",
      "True\n",
      "True\n",
      "True\n",
      "True\n",
      "True\n",
      "True\n",
      "True\n",
      "True\n"
     ]
    }
   ],
   "source": [
    "print(is_inside_rectangle(1, 2, 3, 4, 2, 3) == True)\n",
    "print(is_inside_rectangle(-1, -2, -3, -4, -2, -3) == True)\n",
    "print(is_inside_rectangle(3, 4, 1, 2, 2, 3) == True)\n",
    "print(is_inside_rectangle(-3, -4, -1, -2, -2, -3) == True)\n",
    "print(is_inside_rectangle(1, 2, 3, 4, 5, 6) == False)\n",
    "print(is_inside_rectangle(-1, -2, -3, -4, -5, -6) == False)\n",
    "print(is_inside_rectangle(3, 4, 1, 2, 5, 6) == False)\n",
    "print(is_inside_rectangle(-3, -4, -1, -2, -5, -6) == False)\n",
    "\n",
    "print(is_inside_rectangle(-1, -2, 3, 4, 2, 3) == True)\n",
    "print(is_inside_rectangle(1, 2, -3, -4, -2, -3) == True)\n",
    "print(is_inside_rectangle(3, 4, -1, -2, 2, 3) == True)\n",
    "print(is_inside_rectangle(-3, -4, 1, 2, -2, -3) == True)"
   ]
  },
  {
   "cell_type": "code",
   "execution_count": 27,
   "metadata": {},
   "outputs": [],
   "source": [
    "def test_call_rectangle(a):\n",
    "    print(a(1, 2, 3, 4, 2, 3) == True)\n",
    "    print(is_inside_rectangle(-1, -2, -3, -4, -2, -3) == True)\n",
    "    print(is_inside_rectangle(3, 4, 1, 2, 2, 3) == True)\n",
    "    print(is_inside_rectangle(-3, -4, -1, -2, -2, -3) == True)\n",
    "    print(is_inside_rectangle(1, 2, 3, 4, 5, 6) == False)\n",
    "    print(is_inside_rectangle(-1, -2, -3, -4, -5, -6) == False)\n",
    "    print(is_inside_rectangle(3, 4, 1, 2, 5, 6) == False)\n",
    "    print(is_inside_rectangle(-3, -4, -1, -2, -5, -6) == False)\n",
    "\n",
    "    print(is_inside_rectangle(-1, -2, 3, 4, 2, 3) == True)\n",
    "    print(is_inside_rectangle(1, 2, -3, -4, -2, -3) == True)\n",
    "    print(is_inside_rectangle(3, 4, -1, -2, 2, 3) == True)\n",
    "    print(is_inside_rectangle(-3, -4, 1, 2, -2, -3) == True)\n"
   ]
  },
  {
   "cell_type": "code",
   "execution_count": 26,
   "metadata": {},
   "outputs": [
    {
     "name": "stdout",
     "output_type": "stream",
     "text": [
      "True\n",
      "True\n",
      "True\n",
      "True\n",
      "True\n",
      "True\n",
      "True\n",
      "True\n",
      "True\n",
      "True\n",
      "True\n",
      "True\n"
     ]
    }
   ],
   "source": [
    "test_call_rectangle(is_inside_rectangle)"
   ]
  },
  {
   "cell_type": "code",
   "execution_count": null,
   "metadata": {},
   "outputs": [],
   "source": [
    "#in a line what will be the value of y if x is know."
   ]
  },
  {
   "cell_type": "code",
   "execution_count": 34,
   "metadata": {},
   "outputs": [],
   "source": [
    "#Tower of Hanoi-- Tripti\n",
    "\n",
    "\n",
    "def Tower_of_Hanoi_oth(n,Source,target,Aux):\n",
    "        print(f\"Move {n} from {Source} to {target}\")\n",
    "\n",
    "#def Tower_of_Hanoi_odd(n,Source,target,Aux):\n",
    "#    print(f\"Move {n} from {Source} to {target}\")\n",
    " #   #print(f\"Move {n} from {Source} to {Aux}\")\n",
    "\n",
    "def Tower_of_Hanoi_trpt(n,Source,target,Aux):\n",
    "    if n<=0:\n",
    "        return 1\n",
    "    elif n==1:\n",
    "        print(f\"Move {n} from {Source} to {target}\")\n",
    "        \n",
    "        \n",
    "   \n",
    "    else:\n",
    "        Tower_of_Hanoi_trpt(n-1,Source,Aux,target)\n",
    "        Tower_of_Hanoi_oth(n,Source,target,Aux)\n",
    "        Tower_of_Hanoi_trpt(n-1,Aux,target,Source)\n",
    "        \n",
    "        \n",
    "        \n",
    "    \n",
    "    \n",
    "    \n",
    "         \n",
    "        \n",
    "\n"
   ]
  },
  {
   "cell_type": "code",
   "execution_count": 37,
   "metadata": {},
   "outputs": [
    {
     "name": "stdout",
     "output_type": "stream",
     "text": [
      "Move 1 from A to C\n",
      "Move 2 from A to B\n",
      "Move 1 from C to B\n",
      "Move 3 from A to C\n",
      "Move 1 from B to A\n",
      "Move 2 from B to C\n",
      "Move 1 from A to C\n",
      "Move 4 from A to B\n",
      "Move 1 from C to B\n",
      "Move 2 from C to A\n",
      "Move 1 from B to A\n",
      "Move 3 from C to B\n",
      "Move 1 from A to C\n",
      "Move 2 from A to B\n",
      "Move 1 from C to B\n",
      "Move 5 from A to C\n",
      "Move 1 from B to A\n",
      "Move 2 from B to C\n",
      "Move 1 from A to C\n",
      "Move 3 from B to A\n",
      "Move 1 from C to B\n",
      "Move 2 from C to A\n",
      "Move 1 from B to A\n",
      "Move 4 from B to C\n",
      "Move 1 from A to C\n",
      "Move 2 from A to B\n",
      "Move 1 from C to B\n",
      "Move 3 from A to C\n",
      "Move 1 from B to A\n",
      "Move 2 from B to C\n",
      "Move 1 from A to C\n"
     ]
    }
   ],
   "source": [
    "Tower_of_Hanoi_trpt(5,'A','C','B')"
   ]
  },
  {
   "cell_type": "code",
   "execution_count": 13,
   "metadata": {},
   "outputs": [],
   "source": [
    "def power(n,x):\n",
    "    if x==0:\n",
    "        return 1\n",
    "    y= n*power(n,x-1)\n",
    "    return y\n",
    "    "
   ]
  },
  {
   "cell_type": "code",
   "execution_count": 14,
   "metadata": {},
   "outputs": [
    {
     "data": {
      "text/plain": [
       "8"
      ]
     },
     "execution_count": 14,
     "metadata": {},
     "output_type": "execute_result"
    }
   ],
   "source": [
    "power(2,3)"
   ]
  },
  {
   "cell_type": "code",
   "execution_count": null,
   "metadata": {},
   "outputs": [],
   "source": [
    "'''Problem 1:\n",
    "articles = ['a', 'the', 'that', 'this']\n",
    "\n",
    "adjectives = [\"good\", \"bad\", \"nice\", \"blue\", \"light\"]\n",
    "\n",
    "words = [\"city\", \"sky\", \"water\", \"person\"]\n",
    "\n",
    "print all possible combinations: a good city a good sky ... the bad water ...''''\n",
    "\n",
    "# Problem 2: Find average of list of numbers\n",
    "#Problem 3: Statdard Deviation"
   ]
  },
  {
   "cell_type": "code",
   "execution_count": 2,
   "metadata": {},
   "outputs": [
    {
     "name": "stdout",
     "output_type": "stream",
     "text": [
      "a good city\n",
      "a good sky\n",
      "a good water\n",
      "a good person\n",
      "a bad city\n",
      "a bad sky\n",
      "a bad water\n",
      "a bad person\n",
      "a nice city\n",
      "a nice sky\n",
      "a nice water\n",
      "a nice person\n",
      "a blue city\n",
      "a blue sky\n",
      "a blue water\n",
      "a blue person\n",
      "a light city\n",
      "a light sky\n",
      "a light water\n",
      "a light person\n",
      "the good city\n",
      "the good sky\n",
      "the good water\n",
      "the good person\n",
      "the bad city\n",
      "the bad sky\n",
      "the bad water\n",
      "the bad person\n",
      "the nice city\n",
      "the nice sky\n",
      "the nice water\n",
      "the nice person\n",
      "the blue city\n",
      "the blue sky\n",
      "the blue water\n",
      "the blue person\n",
      "the light city\n",
      "the light sky\n",
      "the light water\n",
      "the light person\n",
      "that good city\n",
      "that good sky\n",
      "that good water\n",
      "that good person\n",
      "that bad city\n",
      "that bad sky\n",
      "that bad water\n",
      "that bad person\n",
      "that nice city\n",
      "that nice sky\n",
      "that nice water\n",
      "that nice person\n",
      "that blue city\n",
      "that blue sky\n",
      "that blue water\n",
      "that blue person\n",
      "that light city\n",
      "that light sky\n",
      "that light water\n",
      "that light person\n",
      "this good city\n",
      "this good sky\n",
      "this good water\n",
      "this good person\n",
      "this bad city\n",
      "this bad sky\n",
      "this bad water\n",
      "this bad person\n",
      "this nice city\n",
      "this nice sky\n",
      "this nice water\n",
      "this nice person\n",
      "this blue city\n",
      "this blue sky\n",
      "this blue water\n",
      "this blue person\n",
      "this light city\n",
      "this light sky\n",
      "this light water\n",
      "this light person\n"
     ]
    }
   ],
   "source": [
    "#Problem 1:print all possible combinations\n",
    "articles = ['a', 'the', 'that', 'this']\n",
    "\n",
    "adjectives = [\"good\", \"bad\", \"nice\", \"blue\", \"light\"]\n",
    "\n",
    "words = [\"city\", \"sky\", \"water\", \"person\"]\n",
    "\n",
    "for i in articles:\n",
    "    for j in adjectives:\n",
    "        for k in words:\n",
    "            print(i+\" \"+ j+ \" \"+k)"
   ]
  },
  {
   "cell_type": "code",
   "execution_count": 8,
   "metadata": {},
   "outputs": [
    {
     "name": "stdout",
     "output_type": "stream",
     "text": [
      "5.5\n"
     ]
    }
   ],
   "source": [
    "\n",
    "x=[1,2,3,4,5,6,7,8,9,10]\n",
    "sum=0\n",
    "count=0\n",
    "average=0\n",
    "for i in x:\n",
    "    sum=sum+i\n",
    "    count+=1\n",
    "average= sum/count  \n",
    "print(average)\n",
    "\n",
    "    \n",
    "    "
   ]
  },
  {
   "cell_type": "code",
   "execution_count": 3,
   "metadata": {},
   "outputs": [
    {
     "name": "stdout",
     "output_type": "stream",
     "text": [
      "2.8722813232690143\n"
     ]
    }
   ],
   "source": [
    "#Problem 3: Statdard Deviation\n",
    "\n",
    "import math\n",
    "x=[1,2,3,4,5,6,7,8,9,10]\n",
    "diff_x=list()\n",
    "sumx=0\n",
    "count=0\n",
    "for i in x:\n",
    "    sumx=sumx+i\n",
    "    count+=1\n",
    "average= sumx/count \n",
    "\n",
    "for i in range(len(x)):\n",
    "   # print(i)\n",
    "    p=average-x[i]\n",
    "    #print(p)\n",
    "    diff_x.append(p**2)\n",
    "    #print(p)    \n",
    "\n",
    "print(math.sqrt(sum(diff_x)/count))    \n",
    "\n",
    "    #diff_x=diff_x**2\n",
    "#print(x,average,diff_x)    "
   ]
  },
  {
   "cell_type": "code",
   "execution_count": null,
   "metadata": {},
   "outputs": [],
   "source": [
    "\n",
    "#'''Sandeep'''\n",
    "# a + b + c = 10 -> [1, 1, 1, 10]\n",
    "# 2a + 3b + 4c = 50 [2, 3, 4, 50]\n",
    "# 3a + 5b - 8c = 100 [3, 5, -8, 100]\n",
    "\n",
    "def solve(eqns):\n",
    "    if len(eqns) != len(eqns[0]) - 1:\n",
    "        return None\n",
    "    if len(eqns) == 1:\n",
    "        #[0 10]\n",
    "        eqn = eqns[0]\n",
    "        return [eqn[1]/eqn[0]] # check if eqn[0] is 0\n",
    "    # eliminiate one variable and call solve(new_eqns)\n",
    "    new_equans = eliminate_n(eqns)\n",
    "    soln_1 = solve(new_equans)\n",
    "    \n",
    "    # put the soln in first equation i.e. eqn[0]\n",
    "    return [result, result1]\n",
    "\n",
    "eq1 = [1, 1, 1, 10]\n",
    "eq2 = [2, 3, 4, 50]\n",
    "eq3 = [3, 5, -8, 100]\n",
    "eqns = [eq1, eq2, eq3]\n",
    "result = solve(eqns)"
   ]
  },
  {
   "cell_type": "code",
   "execution_count": 51,
   "metadata": {},
   "outputs": [],
   "source": [
    "#eq2-eq1\n",
    "def find_multiplier(Marr,Mlen):\n",
    "    \n",
    "    mul=[]\n",
    "    for i in range(1,Mlen):\n",
    "        if Marr[0][0]>Marr[i][0]:\n",
    "            mul.append(Marr[0][0]/Marr[i][0])\n",
    "        else:\n",
    "            mul.append(Marr[i][0]/Marr[0][0])\n",
    "    \n",
    "    return mul    \n",
    "\n",
    "def eliminate_n(arr):\n",
    "    L= len(arr)\n",
    "    k=0\n",
    "    result = []\n",
    "    \n",
    "    #for i in range(0,L-2):\n",
    "   \n",
    "    #print(result)\n",
    "    new_eqns =[]\n",
    "    for i in range(1,L):\n",
    "        res=[]\n",
    "        result=find_multiplier(arr,L)\n",
    "        \n",
    "        for j in range(1,L+1):\n",
    "            x=arr[i][j]-arr[0][j]*result[k]\n",
    "            \n",
    "            res.append(x)\n",
    "        new_eqns.append(res)\n",
    "            \n",
    "        k+=1 \n",
    "    \n",
    "      \n",
    "    \n",
    "    return new_eqns\n",
    "        \n",
    "            \n",
    "def solv(eqns):\n",
    "    print(\"SOLVE\",eqns)\n",
    "    if len(eqns) != (len(eqns[0]) - 1):\n",
    "        return None\n",
    "    l=len(eqns)\n",
    "    if len(eqns) == 1:\n",
    "        eqn = eqns[0]\n",
    "        if  eqn[0]==0:\n",
    "            return(\"Can't solve this equation\" )\n",
    "        else:\n",
    "            return eqn[1]/eqn[0]\n",
    "    new_equans = eliminate_n(eqns)\n",
    "    print(new_equans)\n",
    "    soln_1 = solv(new_equans)\n",
    "    \n",
    "    \n",
    "    \n",
    "    "
   ]
  },
  {
   "cell_type": "code",
   "execution_count": 52,
   "metadata": {},
   "outputs": [
    {
     "data": {
      "text/plain": [
       "[[1.0, 2.0, 30.0], [2.0, -11.0, 70.0]]"
      ]
     },
     "execution_count": 52,
     "metadata": {},
     "output_type": "execute_result"
    }
   ],
   "source": [
    "eq1 = [1, 1, 1, 10]\n",
    "eq2 = [2, 3, 4, 50]\n",
    "\n",
    "eq3 = [3, 5, -8, 100]\n",
    "eqns = [eq1, eq2, eq3]\n",
    "#find_multiplier(eq1,eq2)\n",
    "eliminate_n(eqns)\n",
    "#mul1 = find_multiplier(eq1,eq2)\n",
    "#mul2=find_multiplier(eq1,eq3)\n",
    "#print(mul1,mul2)\n",
    "#solv(eqns)\n"
   ]
  },
  {
   "cell_type": "code",
   "execution_count": 5,
   "metadata": {},
   "outputs": [],
   "source": [
    "\n",
    "arr = [[2,3, 1],[4,5,6]]\n",
    "# [A] 2a + 3b = 1\n",
    "# [B] 4a + 5b = 6\n",
    "# [B] - A*2\n",
    "\n",
    "\n"
   ]
  },
  {
   "cell_type": "code",
   "execution_count": 26,
   "metadata": {},
   "outputs": [
    {
     "data": {
      "text/plain": [
       "2.0"
      ]
     },
     "execution_count": 26,
     "metadata": {},
     "output_type": "execute_result"
    }
   ],
   "source": [
    "find_multiplier(eq1,eq2)"
   ]
  },
  {
   "cell_type": "code",
   "execution_count": 43,
   "metadata": {},
   "outputs": [
    {
     "data": {
      "text/plain": [
       "20.591260281974"
      ]
     },
     "execution_count": 43,
     "metadata": {},
     "output_type": "execute_result"
    }
   ],
   "source": [
    "import math\n",
    "math.sqrt(424)"
   ]
  },
  {
   "cell_type": "code",
   "execution_count": 78,
   "metadata": {},
   "outputs": [
    {
     "data": {
      "text/plain": [
       "[2.0]"
      ]
     },
     "execution_count": 78,
     "metadata": {},
     "output_type": "execute_result"
    }
   ],
   "source": [
    "find_multiplier([[1.0, 2.0, 30.0], [2.0, -11.0, 70.0]],2)"
   ]
  },
  {
   "cell_type": "code",
   "execution_count": 15,
   "metadata": {},
   "outputs": [],
   "source": [
    "# Problem1:\n",
    "# 2y = 40 -> [2, 40]\n",
    "# y = 40/2 -> [20]\n",
    "\n",
    "def solve1(arr):\n",
    "    \n",
    "    tmp=arr[1]/arr[0]\n",
    "    return (tmp)\n",
    "\n",
    "# Input: [3, 15]\n",
    "# Expected: [5]"
   ]
  },
  {
   "cell_type": "code",
   "execution_count": 25,
   "metadata": {},
   "outputs": [
    {
     "data": {
      "text/plain": [
       "[34.0, 2.0]"
      ]
     },
     "execution_count": 25,
     "metadata": {},
     "output_type": "execute_result"
    }
   ],
   "source": [
    "y=solve1([6,12])\n",
    "solve_substitute([2,5,78],y)\n"
   ]
  },
  {
   "cell_type": "code",
   "execution_count": 45,
   "metadata": {},
   "outputs": [],
   "source": [
    "# Problem 2\n",
    "\n",
    "#2x + 5y = 78, y=2\n",
    "#x = (78 - 5*2)/2\n",
    "\n",
    "def solve_substitute(eqn, prev_ans):\n",
    "    lst=[]\n",
    "    L=len(prev_ans)\n",
    "    eqlen=len(eqn)\n",
    "    x=0\n",
    "    \n",
    "    for i in range(L):\n",
    "        x=x+prev_ans[i]*eqn[i+1]\n",
    "        #print('Multy value',x)\n",
    "    \n",
    "    x=(eqn[eqlen-1]-x)/eqn[0]\n",
    "    \n",
    "    lst.append(x)\n",
    "    lst.append(prev_ans)\n",
    "    return lst\n",
    "\n",
    "#Example 1:\n",
    "#solve_substitute([2, 5, 78], [2])\n",
    "#expected_answer: [34, 2]\n",
    "\n",
    "#Example 2:\n",
    "# 3x + 5y - 10z = 30\n",
    "# y, z = [1, 2]\n",
    "# 3*x + 5*1 - 10*2 = 30\n",
    "# x = (30 - (5*1 - 10*2))/3\n",
    "\n",
    "#solve_substitute([3, 5, -10, 30], [1, 2]), \n",
    "#Expected_answer: [15, 1, 2]"
   ]
  },
  {
   "cell_type": "code",
   "execution_count": 46,
   "metadata": {},
   "outputs": [
    {
     "data": {
      "text/plain": [
       "[15.0, [1, 2]]"
      ]
     },
     "execution_count": 46,
     "metadata": {},
     "output_type": "execute_result"
    }
   ],
   "source": [
    "solve_substitute([3, 5, -10, 30], [1, 2])"
   ]
  },
  {
   "cell_type": "code",
   "execution_count": 47,
   "metadata": {},
   "outputs": [
    {
     "data": {
      "text/plain": [
       "[34.0, [2]]"
      ]
     },
     "execution_count": 47,
     "metadata": {},
     "output_type": "execute_result"
    }
   ],
   "source": [
    "solve_substitute([2, 5, 78], [2])"
   ]
  },
  {
   "cell_type": "code",
   "execution_count": 60,
   "metadata": {},
   "outputs": [],
   "source": [
    "# Problem 3\n",
    "##A. 2x + 3y = 10\n",
    "##B. 4x - 5y = 50\n",
    "\n",
    "\n",
    "##Multiplier = 4/2\n",
    "##C. B - 2*A\n",
    "##C. -11y = 30\n",
    "def find_multiplier(Marr,Mlen):\n",
    "    \n",
    "    mul=[]\n",
    "    for i in range(1,Mlen):\n",
    "        if Marr[0][0]>Marr[i][0]:\n",
    "            mul.append(Marr[0][0]/Marr[i][0])\n",
    "        else:\n",
    "            mul.append(Marr[i][0]/Marr[0][0])\n",
    "    \n",
    "    return mul   \n",
    "\n",
    "def reduce(arr):\n",
    "    L= len(arr)\n",
    "    k=0\n",
    "    result = []\n",
    "    \n",
    "    #for i in range(0,L-2):\n",
    "   \n",
    "    #print(result)\n",
    "    new_eqns =[]\n",
    "    for i in range(1,L):\n",
    "        res=[]\n",
    "        result=find_multiplier(arr,L)\n",
    "        \n",
    "        for j in range(1,L+1):\n",
    "            x=arr[i][j]-arr[0][j]*result[k]\n",
    "            \n",
    "            res.append(x)\n",
    "        new_eqns.append(res)\n",
    "            \n",
    "        k+=1 \n",
    "       \n",
    "    return new_eqns\n",
    "\n",
    "#input = [[2, 3, 10],\n",
    "#    [4, -5, 50]]\n",
    "#'''result = reduce(input)\n",
    "#result = [-11, 30]\n",
    "\n",
    "#result = reduce([\n",
    "#    [1, 2, 3, 4], #x + 2y + 3z = 4\n",
    "#   [2, 2, 4, 10],\n",
    "#    [3, 4, 2, 30],\n",
    "#])\n",
    "#result: [\n",
    "#    [ -2, -2, 2], #eqn2 - 2*eqn1\n",
    "#    [-2, -7, 18],  #eqn3 - 2*eqn1\n",
    "#]'''\n"
   ]
  },
  {
   "cell_type": "code",
   "execution_count": 63,
   "metadata": {},
   "outputs": [
    {
     "data": {
      "text/plain": [
       "[[-2.0, -2.0, 2.0], [-2.0, -7.0, 18.0]]"
      ]
     },
     "execution_count": 63,
     "metadata": {},
     "output_type": "execute_result"
    }
   ],
   "source": [
    "reduce([[1, 2, 3, 4],[2, 2, 4, 10],[3, 4, 2, 30]])"
   ]
  },
  {
   "cell_type": "code",
   "execution_count": 64,
   "metadata": {},
   "outputs": [
    {
     "data": {
      "text/plain": [
       "[[-11.0, 30.0]]"
      ]
     },
     "execution_count": 64,
     "metadata": {},
     "output_type": "execute_result"
    }
   ],
   "source": [
    "reduce([[2, 3, 10],[4, -5, 50]])"
   ]
  },
  {
   "cell_type": "code",
   "execution_count": 84,
   "metadata": {},
   "outputs": [],
   "source": [
    "# Code convert to number a decimal numbers\n",
    "# Problem 4: \n",
    "num = \"१३७.७\"\n",
    "def convert(num):\n",
    "    dic_numbers={'०':0,'१':1,'२':2,'३':3,'४':4,'५':5,'६':6,'७':7,'८':8,'९':9,'.':'.'}\n",
    "    # print(137.7)\n",
    "    for i in range(len(num)):\n",
    "        for j,k in dic_numbers.items():\n",
    "                   if num[i]==j:\n",
    "                       print(k,end=\"\")\n",
    "                   \n",
    "                   \n",
    "                   \n",
    "        "
   ]
  },
  {
   "cell_type": "code",
   "execution_count": 86,
   "metadata": {},
   "outputs": [
    {
     "name": "stdout",
     "output_type": "stream",
     "text": [
      "137.7"
     ]
    }
   ],
   "source": [
    "convert(\"१३७.७\")"
   ]
  },
  {
   "cell_type": "code",
   "execution_count": 69,
   "metadata": {},
   "outputs": [
    {
     "data": {
      "text/plain": [
       "49"
      ]
     },
     "execution_count": 69,
     "metadata": {},
     "output_type": "execute_result"
    }
   ],
   "source": [
    "ord('1')"
   ]
  },
  {
   "cell_type": "code",
   "execution_count": 87,
   "metadata": {},
   "outputs": [
    {
     "name": "stdout",
     "output_type": "stream",
     "text": [
      "234.8"
     ]
    }
   ],
   "source": [
    "convert(\"२३४.८\")"
   ]
  },
  {
   "cell_type": "code",
   "execution_count": 1,
   "metadata": {},
   "outputs": [
    {
     "name": "stdout",
     "output_type": "stream",
     "text": [
      "2406 ०\n",
      "2407 १\n",
      "2408 २\n",
      "2409 ३\n",
      "2410 ४\n",
      "2411 ५\n",
      "2412 ६\n",
      "2413 ७\n",
      "2414 ८\n",
      "2415 ९\n",
      "2416 ॰\n",
      "2417 ॱ\n",
      "2418 ॲ\n",
      "2419 ॳ\n",
      "2420 ॴ\n",
      "2421 ॵ\n",
      "2422 ॶ\n",
      "2423 ॷ\n",
      "2424 ॸ\n",
      "2425 ॹ\n",
      "2426 ॺ\n",
      "2427 ॻ\n",
      "2428 ॼ\n",
      "2429 ॽ\n",
      "2430 ॾ\n",
      "2431 ॿ\n",
      "2432 ঀ\n",
      "2433 ঁ\n",
      "2434 ং\n",
      "2435 ঃ\n",
      "2436 ঄\n",
      "2437 অ\n",
      "2438 আ\n",
      "2439 ই\n",
      "2440 ঈ\n",
      "2441 উ\n",
      "2442 ঊ\n",
      "2443 ঋ\n",
      "2444 ঌ\n",
      "2445 ঍\n",
      "2446 ঎\n",
      "2447 এ\n",
      "2448 ঐ\n",
      "2449 ঑\n",
      "2450 ঒\n",
      "2451 ও\n",
      "2452 ঔ\n",
      "2453 ক\n",
      "2454 খ\n",
      "2455 গ\n",
      "2456 ঘ\n",
      "2457 ঙ\n",
      "2458 চ\n",
      "2459 ছ\n",
      "2460 জ\n",
      "2461 ঝ\n",
      "2462 ঞ\n",
      "2463 ট\n",
      "2464 ঠ\n",
      "2465 ড\n",
      "2466 ঢ\n",
      "2467 ণ\n",
      "2468 ত\n",
      "2469 থ\n",
      "2470 দ\n",
      "2471 ধ\n",
      "2472 ন\n",
      "2473 ঩\n",
      "2474 প\n",
      "2475 ফ\n",
      "2476 ব\n",
      "2477 ভ\n",
      "2478 ম\n",
      "2479 য\n",
      "2480 র\n",
      "2481 ঱\n",
      "2482 ল\n",
      "2483 ঳\n",
      "2484 ঴\n",
      "2485 ঵\n",
      "2486 শ\n",
      "2487 ষ\n",
      "2488 স\n",
      "2489 হ\n",
      "2490 ঺\n",
      "2491 ঻\n",
      "2492 ়\n",
      "2493 ঽ\n",
      "2494 া\n",
      "2495 ি\n",
      "2496 ী\n",
      "2497 ু\n",
      "2498 ূ\n",
      "2499 ৃ\n",
      "2500 ৄ\n",
      "2501 ৅\n",
      "2502 ৆\n",
      "2503 ে\n",
      "2504 ৈ\n",
      "2505 ৉\n",
      "2506 ৊\n",
      "2507 ো\n",
      "2508 ৌ\n",
      "2509 ্\n",
      "2510 ৎ\n",
      "2511 ৏\n",
      "2512 ৐\n",
      "2513 ৑\n",
      "2514 ৒\n",
      "2515 ৓\n",
      "2516 ৔\n",
      "2517 ৕\n",
      "2518 ৖\n",
      "2519 ৗ\n",
      "2520 ৘\n",
      "2521 ৙\n",
      "2522 ৚\n",
      "2523 ৛\n",
      "2524 ড়\n",
      "2525 ঢ়\n",
      "2526 ৞\n",
      "2527 য়\n",
      "2528 ৠ\n",
      "2529 ৡ\n",
      "2530 ৢ\n",
      "2531 ৣ\n",
      "2532 ৤\n",
      "2533 ৥\n",
      "2534 ০\n",
      "2535 ১\n",
      "2536 ২\n",
      "2537 ৩\n",
      "2538 ৪\n",
      "2539 ৫\n",
      "2540 ৬\n",
      "2541 ৭\n",
      "2542 ৮\n",
      "2543 ৯\n",
      "2544 ৰ\n",
      "2545 ৱ\n",
      "2546 ৲\n",
      "2547 ৳\n",
      "2548 ৴\n",
      "2549 ৵\n",
      "2550 ৶\n",
      "2551 ৷\n",
      "2552 ৸\n",
      "2553 ৹\n",
      "2554 ৺\n",
      "2555 ৻\n",
      "2556 ৼ\n",
      "2557 ৽\n",
      "2558 ৾\n",
      "2559 ৿\n",
      "2560 ਀\n",
      "2561 ਁ\n",
      "2562 ਂ\n",
      "2563 ਃ\n",
      "2564 ਄\n",
      "2565 ਅ\n",
      "2566 ਆ\n",
      "2567 ਇ\n",
      "2568 ਈ\n",
      "2569 ਉ\n",
      "2570 ਊ\n",
      "2571 ਋\n",
      "2572 ਌\n",
      "2573 ਍\n",
      "2574 ਎\n",
      "2575 ਏ\n",
      "2576 ਐ\n",
      "2577 ਑\n",
      "2578 ਒\n",
      "2579 ਓ\n",
      "2580 ਔ\n",
      "2581 ਕ\n",
      "2582 ਖ\n",
      "2583 ਗ\n",
      "2584 ਘ\n",
      "2585 ਙ\n",
      "2586 ਚ\n",
      "2587 ਛ\n",
      "2588 ਜ\n",
      "2589 ਝ\n",
      "2590 ਞ\n",
      "2591 ਟ\n",
      "2592 ਠ\n",
      "2593 ਡ\n",
      "2594 ਢ\n",
      "2595 ਣ\n",
      "2596 ਤ\n",
      "2597 ਥ\n",
      "2598 ਦ\n",
      "2599 ਧ\n",
      "2600 ਨ\n",
      "2601 ਩\n",
      "2602 ਪ\n",
      "2603 ਫ\n",
      "2604 ਬ\n",
      "2605 ਭ\n",
      "49 1\n",
      "50 2\n",
      "51 3\n",
      "52 4\n",
      "53 5\n",
      "54 6\n",
      "55 7\n",
      "56 8\n",
      "57 9\n",
      "58 :\n",
      "59 ;\n",
      "60 <\n",
      "61 =\n",
      "62 >\n",
      "63 ?\n",
      "64 @\n",
      "65 A\n",
      "66 B\n",
      "67 C\n",
      "68 D\n",
      "69 E\n",
      "70 F\n",
      "71 G\n",
      "72 H\n",
      "73 I\n",
      "74 J\n",
      "75 K\n",
      "76 L\n",
      "77 M\n",
      "78 N\n",
      "79 O\n",
      "80 P\n",
      "81 Q\n",
      "82 R\n",
      "83 S\n",
      "84 T\n",
      "85 U\n",
      "86 V\n",
      "87 W\n",
      "88 X\n",
      "89 Y\n",
      "90 Z\n",
      "91 [\n",
      "92 \\\n",
      "93 ]\n",
      "94 ^\n",
      "95 _\n",
      "96 `\n",
      "97 a\n"
     ]
    }
   ],
   "source": [
    "for i in range(200):\n",
    "    print(2406+i, chr(2406+i))\n",
    "    \n",
    "for i in range(49):\n",
    "    print(49+i, chr(49+i))    \n",
    "    "
   ]
  },
  {
   "cell_type": "markdown",
   "metadata": {},
   "source": [
    "## Write your own add digit arrays\n",
    "[1,1,2] + [1,2,1] -> [2, 3,3]\n",
    "[1,2] + [1,0] -> [2,2]\n",
    "\n",
    "\n",
    "# Write the matrix multiplication"
   ]
  },
  {
   "cell_type": "code",
   "execution_count": 59,
   "metadata": {},
   "outputs": [],
   "source": [
    "##  Write the matrix multiplication\n",
    "import numpy as np\n",
    "\n",
    "def matrix_multiplication(Mtrx1,Mtrx2):\n",
    "       \n",
    "    Mtrx1_row=len(Mtrx1)\n",
    "    Mtrx1_col=len(Mtrx1[0])\n",
    "    \n",
    "    \n",
    "    Mtrx2_row=len(Mtrx2)\n",
    "    Mtrx2_col=len(Mtrx2[0])\n",
    "    \n",
    "    print(f'first Mtrix No of Rows = {Mtrx1_row},first Matrix No of column = {Mtrx1_col},Second Mtrix Rows = {Mtrx2_row},Second Mtrix Cols = {Mtrx2_col}')\n",
    "    \n",
    "    Mtrx3=np.zeros((Mtrx1_row,Mtrx1_col),dtype=np.int16)\n",
    "    #print(Mtrx3)\n",
    "    \n",
    "    if Mtrx1_col==Mtrx2_row:\n",
    "        for i in range(Mtrx1_row):\n",
    "            for j in range (Mtrx1_col):\n",
    "                #Mtrx3[i][j]=0\n",
    "                for k in range (Mtrx1_col):\n",
    "                    Mtrx3[i][j]=Mtrx3[i][j]+Mtrx1[i][k]*Mtrx2[k][j]\n",
    "                #print(Mtrx3[i][j]) for QC purpose   \n",
    "\n",
    "        print(Mtrx3)\n",
    "    else:\n",
    "        print('Error: Number of col in first matrix should be equal to number of rows of second matrix')\n",
    "              \n",
    "    \n",
    "    "
   ]
  },
  {
   "cell_type": "code",
   "execution_count": 62,
   "metadata": {},
   "outputs": [
    {
     "data": {
      "text/plain": [
       "3"
      ]
     },
     "execution_count": 62,
     "metadata": {},
     "output_type": "execute_result"
    }
   ],
   "source": [
    "Mtrx1=[[1,2,1],[3,1,7],[2,3,9]]\n",
    "Mtrx2=[[2,1,3],[1,2,2],[1,1,2]]\n",
    "len(Mtrx2)"
   ]
  },
  {
   "cell_type": "code",
   "execution_count": 61,
   "metadata": {},
   "outputs": [
    {
     "name": "stdout",
     "output_type": "stream",
     "text": [
      "first Mtrix No of Rows = 3,first Matrix No of column = 3,Second Mtrix Rows = 3,Second Mtrix Cols = 3\n",
      "[[ 5  6  9]\n",
      " [14 12 25]\n",
      " [16 17 30]]\n"
     ]
    }
   ],
   "source": [
    "Mtrx1=[[1,2,1],[3,1,7],[2,3,9]]\n",
    "Mtrx2=[[2,1,3],[1,2,2],[1,1,2]]\n",
    "\n",
    "matrix_multiplication(Mtrx1,Mtrx2)"
   ]
  },
  {
   "cell_type": "code",
   "execution_count": 52,
   "metadata": {},
   "outputs": [
    {
     "name": "stdout",
     "output_type": "stream",
     "text": [
      "first Mtrix No of Rows = 3,first Matrix No of column = 3,Second Mtrix Rows = 3,Second Mtrix Cols = 3\n",
      "[[ 26  63  49]\n",
      " [ 27  77  72]\n",
      " [ 44 133 104]]\n"
     ]
    }
   ],
   "source": [
    "Mtrx1=[[2,3,1],[3,3,1],[4,5,4]]\n",
    "Mtrx2=[[1,14,23],[8,9,0],[0,8,3]]\n",
    "\n",
    "matrix_multiplication(Mtrx1,Mtrx2)"
   ]
  },
  {
   "cell_type": "code",
   "execution_count": 63,
   "metadata": {},
   "outputs": [
    {
     "name": "stdout",
     "output_type": "stream",
     "text": [
      "first Mtrix No of Rows = 2,first Matrix No of column = 3,Second Mtrix Rows = 3,Second Mtrix Cols = 3\n",
      "[[31 24 17]\n",
      " [22 22 22]]\n"
     ]
    }
   ],
   "source": [
    "Mtrx1=[[1,2,3],[4,2,1]]\n",
    "Mtrx2=[[1,2,3],[6,5,4],[6,4,2]]\n",
    "\n",
    "matrix_multiplication(Mtrx1,Mtrx2)"
   ]
  },
  {
   "cell_type": "code",
   "execution_count": 64,
   "metadata": {},
   "outputs": [
    {
     "name": "stdout",
     "output_type": "stream",
     "text": [
      "first Mtrix No of Rows = 3,first Matrix No of column = 3,Second Mtrix Rows = 2,Second Mtrix Cols = 3\n",
      "Error: Number of col in first matrix should be equal to number of rows of second matrix\n"
     ]
    }
   ],
   "source": [
    "Mtrx1=[[1,2,3],[6,5,4],[6,4,2]]\n",
    "Mtrx2=[[1,2,3],[4,2,1]]\n",
    "\n",
    "\n",
    "matrix_multiplication(Mtrx1,Mtrx2)"
   ]
  },
  {
   "cell_type": "code",
   "execution_count": 42,
   "metadata": {},
   "outputs": [],
   "source": [
    "def add_digit_decimals(num_str1, num_str2): #\"2.3\", \"4.56\" -> \"6.86\"\n",
    "    result1=[]\n",
    "    part2=[]\n",
    "    result2=[]\n",
    "    i=0\n",
    "    while num_str1[i]!='.':\n",
    "        i+=1\n",
    "        \n",
    "    part1=num_str1[:i]\n",
    "    part2=num_str1[i+1:]\n",
    "    #print(part1,part2)\n",
    "    \n",
    "    i=0\n",
    "    while num_str2[i]!='.':\n",
    "        i+=1\n",
    "        \n",
    "    part3=num_str2[:i]\n",
    "    part4=num_str2[i+1:]\n",
    "    #print(part1,part2,part3,part4)\n",
    "    lst1=list(part2)\n",
    "    lst2=list(part4)\n",
    "    \n",
    "   \n",
    "    \n",
    "    if len(lst2)>len(lst1):\n",
    "        for i in range(len(lst1),len(lst2)):\n",
    "            lst1.append('0')\n",
    "    i = len(lst1) - 1\n",
    "    j = len(lst2) - 1\n",
    "    result = []\n",
    "    carryover = 0\n",
    "    r=0\n",
    "    while i > -1 or j > -1:\n",
    "        if i >= 0:\n",
    "            n1 = int(lst1[i])\n",
    "        else:\n",
    "            n1 = 0\n",
    "        \n",
    "        if j >= 0:\n",
    "            n2 = int(lst2[j])\n",
    "        else:\n",
    "            n2 = 0\n",
    "        r = n1 + n2 + carryover\n",
    "#         print(f\"{n1} + {n2} -> {r}\")\n",
    "        result.append(r%10)\n",
    "        carryover = r // 10\n",
    "        i -= 1\n",
    "        j -= 1\n",
    "    \n",
    "    number= int(part1)+int(part3)\n",
    "    if carryover > 0:\n",
    "        number+=carryover\n",
    "    result.reverse()\n",
    "    dec=''\n",
    "    for i in result:\n",
    "        dec+=str(i)\n",
    "    print(number,'.',dec)   \n",
    "          "
   ]
  },
  {
   "cell_type": "code",
   "execution_count": 43,
   "metadata": {},
   "outputs": [
    {
     "name": "stdout",
     "output_type": "stream",
     "text": [
      "6 . 86\n",
      "51 . 88\n",
      "52 . 08\n"
     ]
    }
   ],
   "source": [
    "add_digit_decimals(\"2.3\", \"4.56\")\n",
    "add_digit_decimals(\"47.32\", \"4.56\")\n",
    "add_digit_decimals(\"47.32\", \"4.76\")"
   ]
  },
  {
   "cell_type": "code",
   "execution_count": 73,
   "metadata": {},
   "outputs": [],
   "source": [
    "# Write your own add digit arrays\n",
    "#[1,1,2] + [1,2,1] -> [2, 3,3]\n",
    "#[1,2] + [1,0] -> [2,2]\n",
    "\n",
    "def add_digit(num_str1, num_str2):\n",
    "    result=[]\n",
    "    if len(num_str1)==len(num_str2):\n",
    "        \n",
    "        for i in range(len(num_str1)):\n",
    "            result.append(num_str1[i]+num_str2[i])\n",
    "        return (result)\n",
    "    else:\n",
    "        print(\"Error: length should be same for both array\")\n",
    "\n"
   ]
  },
  {
   "cell_type": "code",
   "execution_count": 74,
   "metadata": {},
   "outputs": [
    {
     "data": {
      "text/plain": [
       "[2, 3, 3]"
      ]
     },
     "execution_count": 74,
     "metadata": {},
     "output_type": "execute_result"
    }
   ],
   "source": [
    "add_digit([1,1,2],[1,2,1])"
   ]
  },
  {
   "cell_type": "code",
   "execution_count": 79,
   "metadata": {},
   "outputs": [
    {
     "data": {
      "text/plain": [
       "[2, 2]"
      ]
     },
     "execution_count": 79,
     "metadata": {},
     "output_type": "execute_result"
    }
   ],
   "source": [
    "add_digit([1,2],[1,0])"
   ]
  },
  {
   "cell_type": "code",
   "execution_count": 75,
   "metadata": {},
   "outputs": [
    {
     "name": "stdout",
     "output_type": "stream",
     "text": [
      "Error: length should be same for both array\n"
     ]
    }
   ],
   "source": [
    "add_digit([1,2,1],[1,0])"
   ]
  },
  {
   "cell_type": "code",
   "execution_count": 115,
   "metadata": {},
   "outputs": [
    {
     "data": {
      "text/plain": [
       "4.859999999999999"
      ]
     },
     "execution_count": 115,
     "metadata": {},
     "output_type": "execute_result"
    }
   ],
   "source": [
    "2.56+2.3"
   ]
  },
  {
   "cell_type": "code",
   "execution_count": 116,
   "metadata": {},
   "outputs": [
    {
     "data": {
      "text/plain": [
       "59"
      ]
     },
     "execution_count": 116,
     "metadata": {},
     "output_type": "execute_result"
    }
   ],
   "source": [
    "56+3"
   ]
  },
  {
   "cell_type": "code",
   "execution_count": 117,
   "metadata": {},
   "outputs": [
    {
     "data": {
      "text/plain": [
       "4.859999999999999"
      ]
     },
     "execution_count": 117,
     "metadata": {},
     "output_type": "execute_result"
    }
   ],
   "source": [
    "2.3+2.56"
   ]
  },
  {
   "cell_type": "code",
   "execution_count": null,
   "metadata": {},
   "outputs": [],
   "source": []
  }
 ],
 "metadata": {
  "kernelspec": {
   "display_name": "Python 3",
   "language": "python",
   "name": "python3"
  },
  "language_info": {
   "codemirror_mode": {
    "name": "ipython",
    "version": 3
   },
   "file_extension": ".py",
   "mimetype": "text/x-python",
   "name": "python",
   "nbconvert_exporter": "python",
   "pygments_lexer": "ipython3",
   "version": "3.6.8"
  },
  "toc": {
   "base_numbering": 1,
   "nav_menu": {},
   "number_sections": true,
   "sideBar": true,
   "skip_h1_title": false,
   "title_cell": "Table of Contents",
   "title_sidebar": "Contents",
   "toc_cell": false,
   "toc_position": {},
   "toc_section_display": true,
   "toc_window_display": false
  }
 },
 "nbformat": 4,
 "nbformat_minor": 2
}
